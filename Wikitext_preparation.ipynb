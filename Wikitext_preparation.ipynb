{
 "cells": [
  {
   "cell_type": "code",
   "execution_count": 1,
   "metadata": {},
   "outputs": [
    {
     "name": "stderr",
     "output_type": "stream",
     "text": [
      "/home/kogel/PythonEnv/lib/python3.12/site-packages/tqdm/auto.py:21: TqdmWarning: IProgress not found. Please update jupyter and ipywidgets. See https://ipywidgets.readthedocs.io/en/stable/user_install.html\n",
      "  from .autonotebook import tqdm as notebook_tqdm\n"
     ]
    }
   ],
   "source": [
    "import datasets\n",
    "import pandas\n",
    "import re\n",
    "import pickle\n",
    "import time\n",
    "\n",
    "from typing import List, AnyStr"
   ]
  },
  {
   "cell_type": "code",
   "execution_count": 2,
   "metadata": {},
   "outputs": [],
   "source": [
    "from wikitext_parser import WIKI_DATASET_TRAIN_PARSED_PATH, WIKI_DATASET_TRAIN_RAW_PATH\n",
    "from wikitext_parser import WikiTextParser"
   ]
  },
  {
   "cell_type": "code",
   "execution_count": 3,
   "metadata": {},
   "outputs": [
    {
     "name": "stdout",
     "output_type": "stream",
     "text": [
      "859955\n"
     ]
    }
   ],
   "source": [
    "# loading data to parser\n",
    "data: List[AnyStr] = pickle.load(open(WIKI_DATASET_TRAIN_RAW_PATH, \"rb\"))\n",
    "data_parser = WikiTextParser(data)\n",
    "\n",
    "print(len(data_parser))"
   ]
  },
  {
   "cell_type": "code",
   "execution_count": null,
   "metadata": {},
   "outputs": [],
   "source": [
    "# preparing the data\n",
    "data_parser.to_lowercase(n_cores=4)\n",
    "data_parser.save_parsed_data(WIKI_DATASET_TRAIN_PARSED_PATH)"
   ]
  },
  {
   "cell_type": "code",
   "execution_count": null,
   "metadata": {},
   "outputs": [],
   "source": [
    "data_parser.extend_abrevations(n_cores=4)\n",
    "data_parser.save_parsed_data(WIKI_DATASET_TRAIN_PARSED_PATH)"
   ]
  },
  {
   "cell_type": "code",
   "execution_count": null,
   "metadata": {},
   "outputs": [],
   "source": [
    "# preparing the data\n",
    "\n",
    "# 10h for single core\n",
    "# 4.6h for 5 cores\n",
    "# 1.3h for new version and 5 cores\n",
    "\n",
    "# replacing emojis with their description\n",
    "data_parser.emojis_to_desc()\n",
    "\n",
    "# replacing the most popular emoticons to their description\n",
    "data_parser.emoticons_to_desc()\n",
    "\n",
    "# replacing numbers to token [NUM]\n",
    "data_parser.numbers_to_tokens()\n",
    "\n",
    "# replacing words from other languages to token [WRD]\n",
    "data_parser.replace_foreign_words()\n",
    "\n",
    "# replacing most common unicodes in dataset which can be represented with ascii\n",
    "data_parser.replace_choosen_unicodes()\n",
    "\n",
    "# removing all other ascii codes which are left in dataset\n",
    "data_parser.remove_all_non_ascii()\n"
   ]
  },
  {
   "cell_type": "code",
   "execution_count": null,
   "metadata": {},
   "outputs": [
    {
     "data": {
      "text/plain": [
       "859955"
      ]
     },
     "execution_count": 6,
     "metadata": {},
     "output_type": "execute_result"
    }
   ],
   "source": [
    "data_parser = WikiTextParser.from_parsed_data(WIKI_DATASET_TRAIN_PARSED_PATH)\n",
    "\n",
    "len(data_parser)"
   ]
  }
 ],
 "metadata": {
  "kernelspec": {
   "display_name": "PythonEnv",
   "language": "python",
   "name": "python3"
  },
  "language_info": {
   "codemirror_mode": {
    "name": "ipython",
    "version": 3
   },
   "file_extension": ".py",
   "mimetype": "text/x-python",
   "name": "python",
   "nbconvert_exporter": "python",
   "pygments_lexer": "ipython3",
   "version": "3.12.3"
  }
 },
 "nbformat": 4,
 "nbformat_minor": 2
}
